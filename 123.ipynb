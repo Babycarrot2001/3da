{
 "cells": [
  {
   "cell_type": "markdown",
   "metadata": {},
   "source": [
    "12312312312312"
   ]
  },
  {
   "cell_type": "markdown",
   "metadata": {},
   "source": [
    "daghasjhadshjdasjh"
   ]
  }
 ],
 "metadata": {
  "language_info": {
   "name": "python"
  }
 },
 "nbformat": 4,
 "nbformat_minor": 2
}
